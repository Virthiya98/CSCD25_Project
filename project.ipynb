{
 "cells": [
  {
   "cell_type": "code",
   "execution_count": 10,
   "metadata": {},
   "outputs": [],
   "source": [
    "import numpy as np\n",
    "import pandas as pd\n",
    "from sklearn.preprocessing import MinMaxScaler\n",
    "from gensim.models.word2vec import Word2Vec"
   ]
  },
  {
   "cell_type": "markdown",
   "metadata": {},
   "source": [
    "### Importing data and preprocessing:"
   ]
  },
  {
   "cell_type": "markdown",
   "metadata": {},
   "source": [
    "Here the dataset is formed by first combining the main submissions and main comments. The preprocessing steps are:\n",
    "- the author and subreddit columns are kept\n",
    "- the deleted and AutoModerator posts are removed\n",
    "- the first 100,000 rows are kept to improve speed (in the final analyses, all rows will be used for a more thorough analysis)"
   ]
  },
  {
   "cell_type": "code",
   "execution_count": 11,
   "metadata": {},
   "outputs": [
    {
     "data": {
      "text/html": [
       "<div>\n",
       "<style scoped>\n",
       "    .dataframe tbody tr th:only-of-type {\n",
       "        vertical-align: middle;\n",
       "    }\n",
       "\n",
       "    .dataframe tbody tr th {\n",
       "        vertical-align: top;\n",
       "    }\n",
       "\n",
       "    .dataframe thead th {\n",
       "        text-align: right;\n",
       "    }\n",
       "</style>\n",
       "<table border=\"1\" class=\"dataframe\">\n",
       "  <thead>\n",
       "    <tr style=\"text-align: right;\">\n",
       "      <th></th>\n",
       "      <th>author</th>\n",
       "      <th>subreddit</th>\n",
       "    </tr>\n",
       "  </thead>\n",
       "  <tbody>\n",
       "    <tr>\n",
       "      <th>0</th>\n",
       "      <td>ZkakZ8xfXNiL6wUXhJhRU3Ysa7c=</td>\n",
       "      <td>AskReddit</td>\n",
       "    </tr>\n",
       "    <tr>\n",
       "      <th>1</th>\n",
       "      <td>pQ8j9hcuty1RBfCkUutL0cy9Zco=</td>\n",
       "      <td>pics</td>\n",
       "    </tr>\n",
       "    <tr>\n",
       "      <th>2</th>\n",
       "      <td>GH3YzjQCtBT4DkTjcxWb2-vPoa0=</td>\n",
       "      <td>Market76</td>\n",
       "    </tr>\n",
       "    <tr>\n",
       "      <th>3</th>\n",
       "      <td>57zAuZ7GS2EvQeCSXqU19wYZgjs=</td>\n",
       "      <td>funny</td>\n",
       "    </tr>\n",
       "    <tr>\n",
       "      <th>4</th>\n",
       "      <td>HY8UtHbd9PNUDFmaAkm4-10hgmA=</td>\n",
       "      <td>PrequelMemes</td>\n",
       "    </tr>\n",
       "    <tr>\n",
       "      <th>5</th>\n",
       "      <td>9tH33QdJxwKi2qmwYsbGaaEY18s=</td>\n",
       "      <td>politics</td>\n",
       "    </tr>\n",
       "    <tr>\n",
       "      <th>6</th>\n",
       "      <td>9tH33QdJxwKi2qmwYsbGaaEY18s=</td>\n",
       "      <td>AskReddit</td>\n",
       "    </tr>\n",
       "    <tr>\n",
       "      <th>7</th>\n",
       "      <td>MxOiFAejBYCW5pyC1OqtxxQ6OF0=</td>\n",
       "      <td>AskReddit</td>\n",
       "    </tr>\n",
       "    <tr>\n",
       "      <th>8</th>\n",
       "      <td>UYhe6ih-1ivvv0VGI8c2yOnF8M4=</td>\n",
       "      <td>teenagers</td>\n",
       "    </tr>\n",
       "    <tr>\n",
       "      <th>9</th>\n",
       "      <td>AtJhCRzBKaitBvgRO9h1ylOdSgc=</td>\n",
       "      <td>FreeKarma4U</td>\n",
       "    </tr>\n",
       "  </tbody>\n",
       "</table>\n",
       "</div>"
      ],
      "text/plain": [
       "                         author     subreddit\n",
       "0  ZkakZ8xfXNiL6wUXhJhRU3Ysa7c=     AskReddit\n",
       "1  pQ8j9hcuty1RBfCkUutL0cy9Zco=          pics\n",
       "2  GH3YzjQCtBT4DkTjcxWb2-vPoa0=      Market76\n",
       "3  57zAuZ7GS2EvQeCSXqU19wYZgjs=         funny\n",
       "4  HY8UtHbd9PNUDFmaAkm4-10hgmA=  PrequelMemes\n",
       "5  9tH33QdJxwKi2qmwYsbGaaEY18s=      politics\n",
       "6  9tH33QdJxwKi2qmwYsbGaaEY18s=     AskReddit\n",
       "7  MxOiFAejBYCW5pyC1OqtxxQ6OF0=     AskReddit\n",
       "8  UYhe6ih-1ivvv0VGI8c2yOnF8M4=     teenagers\n",
       "9  AtJhCRzBKaitBvgRO9h1ylOdSgc=   FreeKarma4U"
      ]
     },
     "execution_count": 11,
     "metadata": {},
     "output_type": "execute_result"
    }
   ],
   "source": [
    "main1 = pd.read_csv(\"data\\main_submissions.csv\", usecols=[\"author\", \"subreddit\"], dtype={\"author\": str, \"subreddit\": str})\n",
    "main2 = pd.read_csv(\"data\\main_comments.csv\", usecols=[\"author\", \"subreddit\"], dtype={\"author\": str, \"subreddit\": str})\n",
    "dataset = pd.concat([main1, main2])\n",
    "dataset = dataset[(dataset[\"author\"] != \"Io99IHkg-4QzX6xbKwbte0cuzp4=\") & (dataset[\"author\"] != \"EA1r-K5p_lVBLesLhCFRrKOPN-I=\")]\n",
    "dataset = dataset.head(100000)\n",
    "dataset.head(10)"
   ]
  },
  {
   "cell_type": "markdown",
   "metadata": {},
   "source": [
    "### Creating community embeddings:"
   ]
  },
  {
   "cell_type": "markdown",
   "metadata": {},
   "source": [
    "Note: I did not have too much time to incorporate the community embedding from the paper, so I am using the community embedding I began working on during this stage of the analysis.\n",
    "\n",
    "The first dataframe contains each unique author and their list of subreddits as a string (which will be used later). The second dataframe contains the list of subreddits in list form, and is ready to be used to create the word2vec model."
   ]
  },
  {
   "cell_type": "code",
   "execution_count": 12,
   "metadata": {},
   "outputs": [],
   "source": [
    "# notes: sr stands for subreddit, pp stands for preprocessed\n",
    "author_srs = dataset.groupby(\"author\")[\"subreddit\"].apply(' '.join).reset_index(name=\"subreddit\")\n",
    "author_srs_pp = dataset.groupby(\"author\")[\"subreddit\"].apply(list).reset_index(name=\"subreddit\")[\"subreddit\"]"
   ]
  },
  {
   "cell_type": "markdown",
   "metadata": {},
   "source": [
    "Here the model is created and tested with the news subreddit."
   ]
  },
  {
   "cell_type": "code",
   "execution_count": 13,
   "metadata": {},
   "outputs": [
    {
     "data": {
      "text/plain": [
       "[('Games', 0.9561716318130493),\n",
       " ('gaming', 0.8900212645530701),\n",
       " ('ukpolitics', 0.6957810521125793),\n",
       " ('pokemontrades', 0.6832767724990845),\n",
       " ('RoastMe', 0.6748286485671997),\n",
       " ('CryptoCurrency', 0.67280513048172),\n",
       " ('europe', 0.6646226048469543),\n",
       " ('Animemes', 0.6571636199951172),\n",
       " ('de', 0.6562094688415527),\n",
       " ('Coronavirus', 0.6484489440917969)]"
      ]
     },
     "execution_count": 13,
     "metadata": {},
     "output_type": "execute_result"
    }
   ],
   "source": [
    "model = Word2Vec(author_srs_pp)\n",
    "model.wv.most_similar(positive=['news'])"
   ]
  },
  {
   "cell_type": "markdown",
   "metadata": {},
   "source": [
    "A function to obtain a vector from a subreddit is created, which will be used in later steps."
   ]
  },
  {
   "cell_type": "code",
   "execution_count": 14,
   "metadata": {},
   "outputs": [],
   "source": [
    "def srs_to_vectors(text):\n",
    "    return [model.wv[w] for w in text if w in model.wv]"
   ]
  },
  {
   "cell_type": "markdown",
   "metadata": {},
   "source": [
    "### Calculating GS scores for each user:"
   ]
  },
  {
   "cell_type": "markdown",
   "metadata": {},
   "source": [
    "The center of mass for each user and then the GS score for each user are calculated."
   ]
  },
  {
   "cell_type": "code",
   "execution_count": 15,
   "metadata": {},
   "outputs": [
    {
     "data": {
      "text/plain": [
       "0    0.700197\n",
       "1    0.826300\n",
       "2    0.782926\n",
       "3    0.689974\n",
       "4    0.664074\n",
       "5    0.794802\n",
       "6    0.819195\n",
       "7    0.779312\n",
       "8    0.592650\n",
       "9    0.710361\n",
       "Name: gs_score, dtype: float64"
      ]
     },
     "execution_count": 15,
     "metadata": {},
     "output_type": "execute_result"
    }
   ],
   "source": [
    "u_i = []\n",
    "gs_i = []\n",
    "\n",
    "# calculating center of mass values\n",
    "for (i, row) in enumerate(author_srs_pp):\n",
    "    u_i.append(sum(srs_to_vectors(row)))\n",
    "\n",
    "# calculating GS score values\n",
    "for (i, row) in enumerate(author_srs_pp):\n",
    "    if (len(srs_to_vectors(row)) != 0):\n",
    "        gs_i.append(sum(list(map(lambda x: (np.dot(x, u_i[i]))/np.linalg.norm(u_i[i]), srs_to_vectors(row))))/len(srs_to_vectors(row)))\n",
    "    else:\n",
    "        gs_i.append(pd.NA)\n",
    "\n",
    "author_srs = author_srs.assign(cm = u_i)\n",
    "author_srs = author_srs.assign(gs_score = gs_i)\n",
    "\n",
    "# transforming values to match the definition of GS score\n",
    "scaler = MinMaxScaler(feature_range=(-1, 1))\n",
    "author_srs.loc[~author_srs[\"gs_score\"].isna(), \"gs_score\"] = \\\n",
    "    list(map(lambda x: -x[0], scaler.fit_transform(author_srs[~author_srs[\"gs_score\"].isna()][[\"gs_score\"]])))\n",
    "\n",
    "author_srs[\"gs_score\"].head(10)"
   ]
  },
  {
   "cell_type": "markdown",
   "metadata": {},
   "source": [
    "### Calculating GS scores for each subreddit:"
   ]
  },
  {
   "cell_type": "markdown",
   "metadata": {},
   "source": [
    "The GS scores are for each subreddit are calculated using the GS scores for each user in the subreddit."
   ]
  },
  {
   "cell_type": "code",
   "execution_count": 16,
   "metadata": {},
   "outputs": [
    {
     "data": {
      "text/plain": [
       "0    0.760746\n",
       "1    0.788354\n",
       "2    0.783131\n",
       "3    0.757876\n",
       "4    0.795412\n",
       "5    0.781923\n",
       "6    0.791470\n",
       "7    0.709881\n",
       "8    0.799660\n",
       "9    0.755341\n",
       "Name: gs_score, dtype: float64"
      ]
     },
     "execution_count": 16,
     "metadata": {},
     "output_type": "execute_result"
    }
   ],
   "source": [
    "author_gs_dict = pd.Series(author_srs[\"gs_score\"].values, index=author_srs[\"author\"]).to_dict()\n",
    "sr_authors = dataset.groupby(\"subreddit\")[\"author\"].apply(list).reset_index(name=\"authors\")\n",
    "\n",
    "gs_j = []\n",
    "for (i, row) in enumerate(sr_authors[\"authors\"]):\n",
    "  gs_j.append(np.mean(list(map(lambda x: author_gs_dict[x], row))))\n",
    "\n",
    "sr_authors = sr_authors.assign(gs_score = gs_j)\n",
    "sr_gs_dict = pd.Series(sr_authors[\"gs_score\"].values, index=sr_authors[\"subreddit\"]).to_dict()\n",
    "\n",
    "sr_authors[\"gs_score\"].head(10)"
   ]
  },
  {
   "cell_type": "markdown",
   "metadata": {},
   "source": [
    "### GS score distribution for topics related to \"news\":"
   ]
  },
  {
   "cell_type": "markdown",
   "metadata": {},
   "source": [
    "The gs_dist function takes a subreddit as input and returns the most similar subreddits with their corresponding GS scores (sorted by GS score). We test it with the news subreddit."
   ]
  },
  {
   "cell_type": "code",
   "execution_count": 17,
   "metadata": {},
   "outputs": [
    {
     "data": {
      "text/html": [
       "<div>\n",
       "<style scoped>\n",
       "    .dataframe tbody tr th:only-of-type {\n",
       "        vertical-align: middle;\n",
       "    }\n",
       "\n",
       "    .dataframe tbody tr th {\n",
       "        vertical-align: top;\n",
       "    }\n",
       "\n",
       "    .dataframe thead th {\n",
       "        text-align: right;\n",
       "    }\n",
       "</style>\n",
       "<table border=\"1\" class=\"dataframe\">\n",
       "  <thead>\n",
       "    <tr style=\"text-align: right;\">\n",
       "      <th></th>\n",
       "      <th>topic</th>\n",
       "      <th>gs_score</th>\n",
       "    </tr>\n",
       "  </thead>\n",
       "  <tbody>\n",
       "    <tr>\n",
       "      <th>5</th>\n",
       "      <td>CryptoCurrency</td>\n",
       "      <td>0.817472</td>\n",
       "    </tr>\n",
       "    <tr>\n",
       "      <th>7</th>\n",
       "      <td>Animemes</td>\n",
       "      <td>0.795412</td>\n",
       "    </tr>\n",
       "    <tr>\n",
       "      <th>4</th>\n",
       "      <td>RoastMe</td>\n",
       "      <td>0.779678</td>\n",
       "    </tr>\n",
       "    <tr>\n",
       "      <th>3</th>\n",
       "      <td>pokemontrades</td>\n",
       "      <td>0.770844</td>\n",
       "    </tr>\n",
       "    <tr>\n",
       "      <th>9</th>\n",
       "      <td>Coronavirus</td>\n",
       "      <td>0.723902</td>\n",
       "    </tr>\n",
       "    <tr>\n",
       "      <th>8</th>\n",
       "      <td>de</td>\n",
       "      <td>0.692864</td>\n",
       "    </tr>\n",
       "    <tr>\n",
       "      <th>6</th>\n",
       "      <td>europe</td>\n",
       "      <td>0.687313</td>\n",
       "    </tr>\n",
       "    <tr>\n",
       "      <th>1</th>\n",
       "      <td>gaming</td>\n",
       "      <td>0.678487</td>\n",
       "    </tr>\n",
       "    <tr>\n",
       "      <th>2</th>\n",
       "      <td>ukpolitics</td>\n",
       "      <td>0.565514</td>\n",
       "    </tr>\n",
       "    <tr>\n",
       "      <th>0</th>\n",
       "      <td>Games</td>\n",
       "      <td>0.533908</td>\n",
       "    </tr>\n",
       "  </tbody>\n",
       "</table>\n",
       "</div>"
      ],
      "text/plain": [
       "            topic  gs_score\n",
       "5  CryptoCurrency  0.817472\n",
       "7        Animemes  0.795412\n",
       "4         RoastMe  0.779678\n",
       "3   pokemontrades  0.770844\n",
       "9     Coronavirus  0.723902\n",
       "8              de  0.692864\n",
       "6          europe  0.687313\n",
       "1          gaming  0.678487\n",
       "2      ukpolitics  0.565514\n",
       "0           Games  0.533908"
      ]
     },
     "execution_count": 17,
     "metadata": {},
     "output_type": "execute_result"
    }
   ],
   "source": [
    "def gs_dist(topic):\n",
    "    topics = model.wv.most_similar(positive=[topic])\n",
    "    topics = list(map(lambda x: x[0], topics))\n",
    "    gs_scores = list(map(lambda x: sr_gs_dict[x] if x in sr_gs_dict else 0, topics))\n",
    "    dist = pd.DataFrame({\"topic\": topics, \"gs_score\": gs_scores})\n",
    "    return dist.sort_values(by=\"gs_score\", ascending=False)\n",
    "\n",
    "gs_dist(\"news\")"
   ]
  },
  {
   "cell_type": "markdown",
   "metadata": {},
   "source": [
    "Here, we plot the GS score distribution for the similar topics."
   ]
  },
  {
   "cell_type": "code",
   "execution_count": 18,
   "metadata": {},
   "outputs": [
    {
     "data": {
      "text/plain": [
       "<AxesSubplot: >"
      ]
     },
     "execution_count": 18,
     "metadata": {},
     "output_type": "execute_result"
    },
    {
     "data": {
      "image/png": "[encoded data removed]",
      "text/plain": [
       "<Figure size 640x480 with 1 Axes>"
      ]
     },
     "metadata": {},
     "output_type": "display_data"
    }
   ],
   "source": [
    "gs_dist(\"news\").reset_index()[\"gs_score\"].plot()"
   ]
  },
  {
   "cell_type": "markdown",
   "metadata": {},
   "source": [
    "### Next Steps for Project"
   ]
  },
  {
   "cell_type": "markdown",
   "metadata": {},
   "source": [
    "1. Completing the analysis for the primary research question by finishing the remaining steps:\n",
    " - Incorporating the high fidelity community embedding to obtain accurate GS score distributions.\n",
    " - Generalizing for many topics: Here a few more plots will be checked to identify if there is a trend. Once a trend is obtained (e.g. f(x) ~ 1/x)), the average mean squared error of the trend function can be checked for many subreddits to see if it is a good fit.\n",
    "2. Answering the remaining research questions."
   ]
  }
 ],
 "metadata": {
  "kernelspec": {
   "display_name": "Python 3",
   "language": "python",
   "name": "python3"
  },
  "language_info": {
   "codemirror_mode": {
    "name": "ipython",
    "version": 3
   },
   "file_extension": ".py",
   "mimetype": "text/x-python",
   "name": "python",
   "nbconvert_exporter": "python",
   "pygments_lexer": "ipython3",
   "version": "3.11.5"
  }
 },
 "nbformat": 4,
 "nbformat_minor": 2
}
